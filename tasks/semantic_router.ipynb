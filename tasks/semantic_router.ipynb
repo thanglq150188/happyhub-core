{
 "cells": [
  {
   "cell_type": "code",
   "execution_count": 1,
   "metadata": {},
   "outputs": [],
   "source": [
    "from happy_hub.models import OllamaModel"
   ]
  },
  {
   "cell_type": "code",
   "execution_count": 2,
   "metadata": {},
   "outputs": [],
   "source": [
    "model = OllamaModel(\n",
    "    url=\"http://34.1.198.45:11434/v1\",\n",
    "    model_config_dict={\n",
    "        \"model\": \"gemma2:27b\",\n",
    "        \"temperature\": 0.0,\n",
    "        \"stream\": True\n",
    "    }\n",
    ")"
   ]
  },
  {
   "cell_type": "code",
   "execution_count": 17,
   "metadata": {},
   "outputs": [
    {
     "data": {
      "text/plain": [
       "<openai.Stream at 0x7f40e0588a00>"
      ]
     },
     "execution_count": 17,
     "metadata": {},
     "output_type": "execute_result"
    }
   ],
   "source": [
    "model.run(messages=[\n",
    "    {\"role\": \"user\", \"content\": \"xin chào\"}\n",
    "])"
   ]
  },
  {
   "cell_type": "code",
   "execution_count": 4,
   "metadata": {},
   "outputs": [],
   "source": [
    "import yaml # type: ignore"
   ]
  },
  {
   "cell_type": "markdown",
   "metadata": {},
   "source": [
    "### Semantic Router"
   ]
  },
  {
   "cell_type": "code",
   "execution_count": 2,
   "metadata": {},
   "outputs": [],
   "source": [
    "with open(\"../happy_hub/prompts/semantic_router.yml\", 'r') as file:\n",
    "    semantic_router_yaml = yaml.safe_load(file)"
   ]
  },
  {
   "cell_type": "code",
   "execution_count": 3,
   "metadata": {},
   "outputs": [],
   "source": [
    "system_prompt_template = \"\"\n",
    "for key in semantic_router_yaml:\n",
    "    system_prompt_template += semantic_router_yaml[key]"
   ]
  },
  {
   "cell_type": "code",
   "execution_count": 5,
   "metadata": {},
   "outputs": [],
   "source": [
    "from happy_hub.functions import RETRIEVAL_FUNCS"
   ]
  },
  {
   "cell_type": "code",
   "execution_count": 9,
   "metadata": {},
   "outputs": [
    {
     "name": "stdout",
     "output_type": "stream",
     "text": [
      "{\"name\": \"mb_info_query\"}"
     ]
    }
   ],
   "source": [
    "examples = [\n",
    "    {\"role\": \"user\", \"content\": \"xin chào\"},\n",
    "    {\"role\": \"assistant\",  'content': '{\"name\": \"fun_chat\"}'},\n",
    "    {\"role\": \"user\", \"content\": \"quy định nghỉ phép của MB gồm những gì?\"},\n",
    "    {\"role\": \"assistant\", \"content\": '{\"name\": \"mb_info_query\"}'},\n",
    "    {\"role\": \"user\", \"content\": \"MB có gì hay ho nhỉ ?\"},\n",
    "    {\"role\": \"assistant\", \"content\": '{\"name\": \"mb_info_query\"}'},\n",
    "]\n",
    "\n",
    "system_prompt = system_prompt_template.format(\n",
    "    tools = [func.get_openai_tool_schema() for func in RETRIEVAL_FUNCS],\n",
    ")\n",
    "\n",
    "# Prepare the input messages\n",
    "messages = [\n",
    "    {\"role\": \"user\", \"content\": system_prompt},\n",
    "    {\"role\": \"assistant\", \"content\": '{\"name\": \"mb_info_query\"}'}\n",
    "]\n",
    "\n",
    "messages.extend(examples)\n",
    "\n",
    "messages.append({\n",
    "    \"role\": \"user\", \"content\": \"làm nhân viên chính thức có được giãm lãi vay vốn\"\n",
    "})\n",
    "\n",
    "# Run the model with the input messages\n",
    "response = model.run(messages=messages) # type: ignore\n",
    "\n",
    "for chunk in response:\n",
    "    print(chunk.choices[0].delta.content, end=\"\")"
   ]
  },
  {
   "cell_type": "markdown",
   "metadata": {},
   "source": [
    "## Fun Chat"
   ]
  },
  {
   "cell_type": "code",
   "execution_count": 3,
   "metadata": {},
   "outputs": [],
   "source": [
    "with open(\"../happy_hub/prompts/fun_chat.yml\", 'r') as file:\n",
    "    fun_chat_yaml = yaml.safe_load(file)"
   ]
  },
  {
   "cell_type": "code",
   "execution_count": 4,
   "metadata": {},
   "outputs": [],
   "source": [
    "fun_chat_template = \"\"\n",
    "for key in fun_chat_yaml:\n",
    "    fun_chat_template += fun_chat_yaml[key]"
   ]
  },
  {
   "cell_type": "code",
   "execution_count": 5,
   "metadata": {},
   "outputs": [
    {
     "ename": "NameError",
     "evalue": "name 'model' is not defined",
     "output_type": "error",
     "traceback": [
      "\u001b[0;31m---------------------------------------------------------------------------\u001b[0m",
      "\u001b[0;31mNameError\u001b[0m                                 Traceback (most recent call last)",
      "Cell \u001b[0;32mIn[5], line 12\u001b[0m\n\u001b[1;32m      7\u001b[0m fun_chat_messages\u001b[38;5;241m.\u001b[39mappend({\n\u001b[1;32m      8\u001b[0m     \u001b[38;5;124m\"\u001b[39m\u001b[38;5;124mrole\u001b[39m\u001b[38;5;124m\"\u001b[39m: \u001b[38;5;124m\"\u001b[39m\u001b[38;5;124muser\u001b[39m\u001b[38;5;124m\"\u001b[39m, \u001b[38;5;124m\"\u001b[39m\u001b[38;5;124mcontent\u001b[39m\u001b[38;5;124m\"\u001b[39m: \u001b[38;5;124m\"\u001b[39m\u001b[38;5;124mtôi muốn đi chơi hụi để giàu nhanh\u001b[39m\u001b[38;5;124m\"\u001b[39m\n\u001b[1;32m      9\u001b[0m })\n\u001b[1;32m     11\u001b[0m \u001b[38;5;66;03m# Run the model with the input messages\u001b[39;00m\n\u001b[0;32m---> 12\u001b[0m response \u001b[38;5;241m=\u001b[39m \u001b[43mmodel\u001b[49m\u001b[38;5;241m.\u001b[39mrun(messages\u001b[38;5;241m=\u001b[39mfun_chat_messages) \u001b[38;5;66;03m# type: ignore\u001b[39;00m\n\u001b[1;32m     14\u001b[0m \u001b[38;5;28;01mfor\u001b[39;00m chunk \u001b[38;5;129;01min\u001b[39;00m response:\n\u001b[1;32m     15\u001b[0m     \u001b[38;5;28mprint\u001b[39m(chunk\u001b[38;5;241m.\u001b[39mchoices[\u001b[38;5;241m0\u001b[39m]\u001b[38;5;241m.\u001b[39mdelta\u001b[38;5;241m.\u001b[39mcontent, end\u001b[38;5;241m=\u001b[39m\u001b[38;5;124m\"\u001b[39m\u001b[38;5;124m\"\u001b[39m)\n",
      "\u001b[0;31mNameError\u001b[0m: name 'model' is not defined"
     ]
    }
   ],
   "source": [
    "# Prepare the input messages\n",
    "fun_chat_messages = [\n",
    "    {\"role\": \"user\", \"content\": fun_chat_template},\n",
    "    {\"role\": \"assistant\", \"content\": 'Rất vui được giúp đỡ bạn, mình là happy hub!'}\n",
    "]\n",
    "\n",
    "fun_chat_messages.append({\n",
    "    \"role\": \"user\", \"content\": \"tôi muốn đi chơi hụi để giàu nhanh\"\n",
    "})\n",
    "\n",
    "# Run the model with the input messages\n",
    "response = model.run(messages=fun_chat_messages) # type: ignore\n",
    "\n",
    "for chunk in response:\n",
    "    print(chunk.choices[0].delta.content, end=\"\")"
   ]
  },
  {
   "cell_type": "markdown",
   "metadata": {},
   "source": [
    "## MB Info Query"
   ]
  },
  {
   "cell_type": "code",
   "execution_count": 5,
   "metadata": {},
   "outputs": [],
   "source": [
    "with open(\"../happy_hub/prompts/mb_info_query.yml\", 'r') as file:\n",
    "    mb_info_query_yaml = yaml.safe_load(file)\n",
    "\n",
    "mb_info_query_template = \"\"\n",
    "for key in mb_info_query_yaml:\n",
    "    mb_info_query_template += mb_info_query_yaml[key]"
   ]
  },
  {
   "cell_type": "code",
   "execution_count": 6,
   "metadata": {},
   "outputs": [
    {
     "name": "stderr",
     "output_type": "stream",
     "text": [
      "/home/gcp_dpf/happyhub-core/.venv/lib/python3.9/site-packages/sentence_transformers/cross_encoder/CrossEncoder.py:11: TqdmWarning: IProgress not found. Please update jupyter and ipywidgets. See https://ipywidgets.readthedocs.io/en/stable/user_install.html\n",
      "  from tqdm.autonotebook import tqdm, trange\n"
     ]
    }
   ],
   "source": [
    "from happy_hub.storage import SimpleVectorDB\n",
    "\n",
    "vector_db = SimpleVectorDB()\n",
    "vector_db.load_from_file(\"../vector_db.pkl\")"
   ]
  },
  {
   "cell_type": "code",
   "execution_count": 7,
   "metadata": {},
   "outputs": [],
   "source": [
    "def parse_qa_text(text):\n",
    "    \"\"\"\n",
    "    Parses a given text into a dictionary with 'question' and 'answer' keys.\n",
    "\n",
    "    Args:\n",
    "        text (str): The input text containing a question and answer separated by ';'.\n",
    "\n",
    "    Returns:\n",
    "        dict: A dictionary with 'question' and 'answer' as keys.\n",
    "\n",
    "    Example:\n",
    "        text = \"question: Quy định về chế độ nghỉ phép có hưởng lương tại MB?; answer: Bạn có thời gian làm việc...\"\n",
    "        result = parse_qa_text(text)\n",
    "    \"\"\"\n",
    "    # Split the text into question and answer parts\n",
    "    parts = text.split(';')\n",
    "    \n",
    "    # Initialize the result dictionary\n",
    "    result = {}\n",
    "    \n",
    "    # Parse the question\n",
    "    if parts[0].startswith('question:'):\n",
    "        result['question'] = parts[0].split('question:', 1)[1].strip()\n",
    "    \n",
    "    # Parse the answer\n",
    "    if len(parts) > 1 and parts[1].startswith(' answer:'):\n",
    "        result['answer'] = parts[1].split(' answer:', 1)[1].strip()\n",
    "    \n",
    "    return result"
   ]
  },
  {
   "cell_type": "code",
   "execution_count": 12,
   "metadata": {},
   "outputs": [
    {
     "name": "stdout",
     "output_type": "stream",
     "text": [
      "{'question': 'Đóng góp tiêu biểu của MB trong phát triển bền vững năm 2022', 'answer': '1. Kinh doanh: Lợi nhuận trước thuế hợp nhất: 22,729 tỷ đồng, Tổng vốn cho vay dự án xanh: 44,148 tỷ đồng (tăng 7% so với năm 2021).\\n2. Môi trường: Gần một triệu khách hàng tham gia chiến dịch cùng MB phủ xanh Việt Nam , chung tay bằng cách đổi điểm MB star trên ứng dụng app MBBank.\\n3. Nhân lực: MB ra mắt kênh học tập mới Nano series learning cho cán bộ nhân viên giúp MBers chủ động Học tập nhanh - Ứng dụng nhanh - Chuyển đổi nhanh (số giờ đào tạo bình quân năm 2022 là 35 giờ/ người/ năm)\\n4. Cộng đồng: MB đóng góp 84 chương trình An sinh xã hội với 233 tỷ đồng. Dự án \"Xây dựng mạng xã hội thiện nguyện Việt Nam\" đã đạt giải A cuộc thi \"Sáng kiến vì cộng đồng\" lần thứ IV\\n5. Quản trị:  MB có thành viên HĐQT chuyên trách các vấn đề về PTBV. Nỗ lực thực hiện các cam kết về thực hành quản trị công ty phù hợp quy định pháp luật Việt Nam hiện hành, tham chiếu và nghiên cứu áp dụng những thông lệ tốt trong nước và quốc tế như Thông lệ tốt về QTCT của Việt Nam - VN CG Code và Nguyên tắc QTCT của OECD, v.v.'}\n",
      "------------------------------\n",
      "{'question': 'Đóng góp tiêu biểu của MB trong phát triển bền vững năm 2023', 'answer': '1. Chuyển đổi số\\nTiếp tục đẩy mạnh chuyển đổi số và chuyển dịch khách hàng lên kênh số:\\n Tỷ lệ giao dịch trên kênh số đạt 96,7% tương đương 2,3 tỷ giao dịch, tăng trưởng 87% so với 2022 - khẳng định vị trí dẫn đầu về giao dịch toàn ngành ngân hàng và tương đương với tỷ lệ giao dịch kênh số của các ngân hàng Top đầu châu Á.\\n Đưa ra thị trường các sản phẩm số giúp đẩy mạnh thanh toán không dùng tiền mặt tích hợp trên App MBBank và Biz MBBank như: Vòng tay thanh toán Stellar'}\n",
      "------------------------------\n",
      "{'question': 'Nguyên tắc quản trị của MB trong phát triển bền vững là gì', 'answer': 'Trách nhiệm với môi trường: quản trị và kiểm soát rủi ro môi trường – xã hội trong hoạt động cho vay và sau vay của ngân hàng, xác định các cơ hội liên quan tới môi trường trong hoạt động kinh doanh.\\n Trách nhiệm với xã hội: thúc đẩy bình đẳng, tôn trọng các nguyên tắc quyền con người trong các chương trình và hoạt động kinh doanh của 2 ngân hàng. \\n Trách nhiệm với chính ngân hàng: nâng cao năng lực quản trị'}\n",
      "------------------------------\n",
      "{'question': 'Cam kết của MB để phát triển bền vững là gì?', 'answer': 'MB quyết tâm chuyển đổi số mạnh mẽ. Sản phẩm, dịch vụ của MB hướng đến tăng trải nghiệm khách hàng, đề cao áp dụng tiêu chí ESG, góp phần thay đổi tích cực đến xã hội và kinh tế.\\n Kinh doanh có trách nhiệm - hướng đến cung cấp các dịch vụ tín dụng và thanh toán trong các lĩnh vực thân thiện với môi trường.\\n Đảm bảo nghĩa vụ tài chính, hỗ trợ thúc đẩy tăng trưởng kinh tế, đảm bảo kinh doanh liêm chính, nỗ lực thực hiện các cam kết với người lao động.'}\n",
      "------------------------------\n",
      "{'question': 'Xếp hạng tín dụng của MB năm 2022', 'answer': 'Xếp hạng tín nhiệm MB từ B lên BB với triển vọng Tích cực góp phần khẳng định hoạt động an toàn, bền vững (theo Fitch Ratings)'}\n",
      "------------------------------\n",
      "{'question': 'Các hoạt động đào tạo và phát triển năm 2023 là gì', 'answer': 'Hoạt động đào tạo, phát triển nhân tài:\\n MB luôn trân trọng từng giá trị của người lao động, chính vì vậy ngân hàng đã xây dựng môi trường làm việc bình đẳng, nơi tất cả người lao động không phân biệt giới tính, tuổi tác hay xuất thân đều được coi trọng và có cơ hội phát triển đồng đều. Trong đó, tiêu biểu là những nỗ lực bình đẳng hóa giữa cán bộ nhân viên Nam và Nữ.\\n Năm 2023 MB triển khai chương trình Flexi Z thu hút ~1.700 nhân sự tập đoàn với mục tiêu đào tạo nhân sự 9x cho vị trí lãnh đạo cấp cao của MB Group tạo hiệu ứng toàn tập đoàn. Đào tạo bồi dưỡng nâng cao chất lượng nguồn lực thông qua chuỗi các chương trình đào tạo MB Leader, năng lực Digital, Bee Smart...\\n Tổ chức câu lạc bộ – eMBee Club dành cho 300 RM xuất sắc nhất Hệ thống, chương trình Finding captain – Đào tạo nhóm nguồn CBQL kinh doanh tiềm năng, chương trình Future Succession – Đào tạo nhóm nguồn Giám đốc Chi nhánh kế cận\\n Triển khai đào tạo các cấp độ về ESG cho từng đối tượng: toàn bộ MBers và cán bộ quản lý'}\n",
      "------------------------------\n",
      "{'question': 'Dấu ấn quan trọng của ngân hàng MB năm 2023', 'answer': 'Doanh nghiệp xuất sắc châu Á 2023, Ngân hàng chuyển đổi số tiêu biểu, Hội đồng quản trị có tính đa dạng cao\\nTop 50 Công ty niêm yết tốt nhất, Top 3 Doanh nghiệp niêm yết được nhà đầu tư yêu thích nhất\\nTop 3 Nơi làm việc tốt nhất Việt Nam ngành ngân hàng khối Doanh nghiệp lớn \\nTop 50 Thương hiệu nhà tuyển dụng hấp dẫn với sinh viên Việt Nam \\nGiải thưởng Sao Khuê vinh danh 3 sản phẩm số của MB là vòng thời trang thanh toán Stellar, thẻ MB JCB Be The Sky và phần mềm quản lý bán hàng mSeller (lần thứ 6 liên tiếp MB nhận giải thưởng này)'}\n",
      "------------------------------\n",
      "{'question': 'Thông điệp của chủ tịch hội đồng quản trị năm 2023 là gì?', 'answer': 'Năm 2024 là một năm đặc biệt khi MB đón chào tuổi 30 với những thử thách lớn hơn và giấc mơ lớn hơn với thông điệp Move for Big – Tiến bước vững vàng. Đồng thời, cũng là năm nhiệm kỳ mới HĐQT, BKS giai đoạn 2024 – 2029. Theo đó, MB đặt ra các mục tiêu cụ thể là: Top 3 ngân hàng về hiệu quả và an toàn, phấn đấu lợi nhuận trước thuế Tập đoàn đạt 30 nghìn tỷ đồng, chinh phục cột mốc 30 triệu khách hàng. Ngân hàng MB sẽ triển khai nhiều chương trình, dự án hướng đến các nhóm đối tượng: Đất nước và Cộng đồng: Move for Big Vietnam – Tiến bước vì một Việt Nam hùng cường'}\n",
      "------------------------------\n",
      "{'question': 'Lịch sử hình thành và phát triển của MB', 'answer': 'Giai đoạn 1994 - 2004:\\nTừ ý tưởng ban đầu là xây dựng một tổ chức tín dụng phục vụ doanh nghiệp quân đội trong nhiệm vụ sản xuất kinh doanh thời kỳ tiền hội nhập\\n Giai đoạn 2005 - 2009:\\nGiai đoạn này đánh dấu bước chuyển mình quan trọng, tạo nền tảng quan trọng để vươn lên phát triển mạnh mẽ trong những năm tiếp theo.\\n Giai đoạn 2010 - 2016:\\nNăm 2010 là bước ngoặt quan trọng đưa MB ghi dấu ấn trở thành một trong những ngân hàng hàng đầu Việt Nam sau này.\\n Năm 2017 - 2021:\\nĐây là năm mở đầu quan trọng của giai đoạn chiến lược mới 2017 - 2021, trong đó MB định hướng tầm nhìn \"Trở thành ngân hàng thuận tiện nhất\" với mục tiêu đến năm 2021 sẽ nằm trong Top 5 hệ thống Ngân hàng Việt Nam hiệu quả kinh doanh và an toàn, dẫn đầu về số hóa\\n 2022 - Nay:\\nMB tiếp tục trên con đường chuyển đổi số mạnh mẽ hơn với Phương châm “Tăng tốc số – Hấp dẫn khách hàng – Hiệp lực tập đoàn – An toàn bền vững”, hướng tới mục tiêu chiến lược: \"Top 3 thị trường về hiệu quả, hướng đến top đầu Châu Á\"\\nĐịnh vị giá trị: Tiên phong cung cấp trải nghiệm tài chính xuất sắc'}\n",
      "------------------------------\n",
      "{'question': 'Xếp hạng tín dụng của MB năm 2023', 'answer': 'Fitch Ratings nâng bậc tín nhiệm nhà phát hành nợ dài hạn của MB từ mức B lên BB-, triển vọng Tích cực'}\n",
      "------------------------------\n",
      "{'question': 'Giới thiệu về MB', 'answer': 'Trải qua gần 30 năm xây dựng và trưởng thành, Ngân hàng TMCP Quân đội (MB) ngày càng phát triển lớn mạnh, trở thành một tập đoàn tài chính đa năng với ngân hàng mẹ MB tại Việt Nam & nước ngoài (Lào, Campuchia) và các công ty thành viên (trong lĩnh vực chứng khoán, bảo hiểm, tài chính tiêu dùng, quản lý quỹ, quản lý tài sản, bảo hiểm nhân thọ). Với các mặt hoạt động kinh doanh hiệu quả, MB đã khẳng định được thương hiệu, uy tín trong ngành dịch vụ tài chính tại Việt Nam. MB có các hoạt động dịch vụ và sản phẩm đa dạng trên nền tảng quản trị rủi ro vượt trội, hạ tầng CNTT hiện đại, phát triển mạnh mẽ mở rộng hoạt động trên các phân khúc thị trường mới bên cạnh thị trường truyền thống của một NHTM. Sau gần 30 năm xây dựng và trưởng thành, hiện nay MB được đánh giá là một định chế tài chính vững vàng, tin cậy, phát triển an toàn bền vững, có uy tín cao.'}\n",
      "------------------------------\n",
      "{'question': 'Hệ thống quản trị nguồn lực', 'answer': 'Hệ thống quản trị nguồn nhân lực (HCM): https://hcm.mbbank.com.vn'}\n",
      "------------------------------\n",
      "{'question': 'Mb là gì', 'answer': 'Trải qua gần 30 năm xây dựng và trưởng thành, Ngân hàng TMCP Quân đội (MB) ngày càng phát triển lớn mạnh, trở thành một tập đoàn tài chính đa năng với ngân hàng mẹ MB tại Việt Nam & nước ngoài (Lào, Campuchia) và các công ty thành viên (trong lĩnh vực chứng khoán, bảo hiểm, tài chính tiêu dùng, quản lý quỹ, quản lý tài sản, bảo hiểm nhân thọ). Với các mặt hoạt động kinh doanh hiệu quả, MB đã khẳng định được thương hiệu, uy tín trong ngành dịch vụ tài chính tại Việt Nam. MB có các hoạt động dịch vụ và sản phẩm đa dạng trên nền tảng quản trị rủi ro vượt trội, hạ tầng CNTT hiện đại, phát triển mạnh mẽ mở rộng hoạt động trên các phân khúc thị trường mới bên cạnh thị trường truyền thống của một NHTM. Sau gần 30 năm xây dựng và trưởng thành, hiện nay MB được đánh giá là một định chế tài chính vững vàng, tin cậy, phát triển an toàn bền vững, có uy tín cao.'}\n",
      "------------------------------\n",
      "{'question': 'Các yếu tố tạo động lực tăng trưởng cho ngân hàng MB', 'answer': 'Chuyển đổi số với Khách hàng là trọng tâm\\nNâng cao năng lực kinh doanh, thúc đẩy phát triển kinh tế\\nMối quan hệ bền chặt với người lao động\\nLợi ích môi trường và xã hội'}\n",
      "------------------------------\n",
      "{'question': 'Dấu ấn quan trọng của ngân hàng MB năm 2022', 'answer': 'MB đạt Top 1 Ngân hàng thương mại Cổ Phần về lợi nhuận kinh doanh ngoại tệ, Top 2 về thị phần với 4.25% (Tăng 0.15% thị phần so với 2021)\\nTop 2 Thương hiệu mạnh nhất ngành ngân hàng 2022 theo Brand Finance\\nTop 3 Doanh nghiệp có vốn hóa lớn được nhà đầu tư yêu thích nhất theo Vietstock\\nTop 5 Công ty niêm yết tốt nhất Việt Nam 2022 theo Forbes\\nGiải thưởng Sao Khuê vinh danh ứng dụng Wealth Management trên app MBBank ( lần thứ 5 liên tiếp MB nhận giải thưởng này)'}\n",
      "------------------------------\n",
      "{'question': 'Chính sách ưu đãi cho nhân viên, MBers là gì', 'answer': 'Chính sách ưu đãi cho Mbers:\\n        - Miễn phí sử dụng dịch vụ,sản phẩm MB\\n        - Vay tín chấp\\n        - Vay có tài sản đảm bảo\\n        - Mua cổ phiếu\\n         Hoặc theo chính sách của MB từng thời kỳ'}\n",
      "------------------------------\n",
      "{'question': 'Quy mô địa bàn của ngân hàng năm 2022', 'answer': 'Đến tháng 12/2022, hệ thống mạng lưới MB có 309 điểm giao dịch được cấp phép hoạt động (306 điểm giao dịch trong nước, 3 điểm giao dịch tại nước ngoài)'}\n",
      "------------------------------\n",
      "{'question': 'Thông điệp của chủ tịch hội đồng quản trị năm 2022 là gì?', 'answer': 'Năm 2022, là năm đầu tiên MB triển khai Chiến lược phát triển Tập đoàn giai đoạn 2022 – 2026 với mục tiêu \"Top 3 thị trường về hiệu quả, hướng đến Top đầu châu Á\", tầm nhìn \"Trở thành doanh nghiệp số, Tập đoàn Tài chính dẫn đầu\", và phương châm \"Tăng tốc số - Hấp dẫn Khách hàng – Hiệp lực Tập đoàn – An toàn bền vững\".'}\n",
      "------------------------------\n",
      "{'question': 'Thông điệp của tổng giám đốc năm 2022 là gì?', 'answer': 'Năm 2022, tiếp tục kiên định, bám sát mục tiêu chiến lược \"Top 3 thị trường về hiệu quả, hướng đến Top đầu Châu Á\" MB chú trọng tổ chức hoạt động kinh doanh an toàn, bền vững mọi mặt hoạt động của Ngân hàng, Tập đoàn. Từ triển khai kinh doanh an toàn, hiệu quả, chú trọng đời sống và sức khỏe cho cán bộ nhân viên, đảm bảo quyền lợi của các cổ đông, nhà đầu tư và tăng giá trị mới cho khách hàng đến trách nhiệm với cộng đồng, xã hội.'}\n",
      "------------------------------\n",
      "{'question': 'Thông điệp của tổng giám đốc năm 2023 là gì?', 'answer': 'Năm 2024, MB tiếp tục kiên định với tầm nhìn đến năm 2026 \"Trở thành Doanh nghiệp số, Tập đoàn tài chính dẫn đầu\" cùng mục tiêu chiến lược nằm trong \"Top 3 thị trường về hiệu quả, hướng đến Top đầu châu Á.\" Chiến lược của MB được xây dựng trên cơ sở Tập trung vào trải nghiệm của khách hàng'}\n",
      "------------------------------\n",
      "{'question': 'Đâu là định hướng chiến lược của MB năm 2022', 'answer': 'Chuyển đổi số - Kết nối tài chính toàn diện'}\n",
      "------------------------------\n",
      "{'question': 'Cơ cấu tổ chức nhân sự của ngân hàng MB năm 2023', 'answer': 'Số lượng nhân sự tập đoàn: 16234 người, riêng ngân hàng là 10481 người\\nĐộ tuổi bình quân của nhân viên MB: 32 tuổi\\nTỉ lệ nhân sự có thâm niên làm việc trên 3 năm tại MB là 95%\\nTrong năm 2023, HĐQT định hướng phát huy Văn hóa Kỷ luật, Sáng tạo'}\n",
      "------------------------------\n",
      "{'question': 'Các hoạt động đào tạo và phát triển năm 2022 là gì', 'answer': 'Hoạt động đào tạo, phát triển nhân tài:\\n Văn hóa học tập chủ động tiếp tục được thúc đẩy để nâng cao năng lực học tập cho đội ngũ nhân sự của MB. Hình thức học tập hiện đại, tân tiến với Nano Learning (các video học tập ngắn từ 2-3 phút) mang đến cơ hội học tập rất thuận thiện, nhanh & linh hoạt cho người MB, nội dung học tập được truyền tải ngắn gọn, chuyênnghiệp và h ấp dẫn giúp dễ dàng hiểu & ứng dụng kiến thức vào công việc để tăng năng suất lao động\\n Nội dung học tập phong phú, trang bị đồng bộ kiến thức ở các cấp độ từ nhân viên đến cán bộ quản lý. Đặc biệt, MB tập trung vào các kiến thức kĩ năng cần thiết của MBers trong quá trình chuyển dịch số như chuỗi chương trình Data, Interpersonal Skills, Agile & Design Thinking, Bán hàng tư vấn, Quản lý kinh doanh hiện đại, các chương trình học tập chuyên môn sâu dành cho đội ngũ chuyên gia ở các lĩnh vực Quản trị rủi ro, Công nghệ thông tin, Ngân hàng số, Tài chính Kế toán, Quản trị Dữ liệu, Quản trị Nhân sự, v.v.'}\n",
      "------------------------------\n",
      "{'question': 'Đâu là định hướng chiến lược của MB năm 2023', 'answer': 'Năng lực công nghệ và chuyên môn ngân hàng\\nNền tảng số kết nối sâu rộng \\n Là tổ chức chú trọng khách hàng liên tục\\n Là tổ chức có năng lực công nghệ vượt trội\\n Là tổ chức quyết định dựa trên khách hàng và dữ liệu\\n Là tổ chức đầu tư cho kinh doanh nền tảng\\n Là tổ chức dám thử nghiệm và chấp nhận thất bại\\n Là tổ chức có phương pháp làm việc khoa học\\n Là tổ chức học hỏi và vui vẻ \\t\\t\\n Là tổ chức phát triển bền vững'}\n",
      "------------------------------\n",
      "{'question': 'Chính sách và phúc lợi cho nhân viên MB năm 2022 là gì', 'answer': '1. Chính sách của MB dành cho Người lao động luôn hướng đến sự toàn diện và khuyến khích gắn kết, nâng cao tinh thần và hiệu suất làm việc tối đa: đảm bảo chế độ đãi ngộ tiêu chuẩn theo các quy định của pháp luật, chế độ bảo hiểm và chăm sóc sức khỏe ưu việt cho nhân viên, tri ân và phúc lợi khác (thời gian làm việc linh hoạt, quà tặng vào các dịp đặc biệt hay lễ tết, teambuilding, ngày nghỉ dịp sinh nhật...).\\n2. Phúc lợi cho nhân viên toàn thời gian:\\n Xây dựng và ban hành các quy định, hướng dẫn về công tác thi đua khen thưởng rõ ràng, hiệu quả.\\n Thực hiện đánh giá, khen thưởng định kỳ 6 tháng/lần hàng năm những tập thể, cá nhân có thành tích nổi bật trong các hoạt động kinh doanh.\\n Thực hiện khen thưởng cá nhân, tập thể với những trường hợp đạt kết quả đột phá, có những sáng kiến áp dụng hiệu quả vào thực tế hoạt động kinh doanh của ngân hàng, có những hành động xã hội tiêu biểu như thực hiện từ thiện, các dự án cộng đồng, v.v.\\n Thường xuyên xây dựng các mô hình thi đua theo chủ đề, lĩnh vực hoạt động, sản phẩm kinh doanh của từng giai đoạn, phù hợp với quá trình và xu thế hoạt động của ngân hàng trong năm.\\n Các hình thức khen thưởng được áp dụng bao gồm: tiền thưởng, quà tặng, giao lưu khen thưởng, bằng khen, kỉ niệm chương, vinh danh truyền thông toàn Ngân hàng.'}\n",
      "------------------------------\n",
      "{'question': 'Cơ cấu tổ chức nhân sự của ngân hàng MB năm 2022', 'answer': 'Số lượng nhân sự tập đoàn: 16136 người, riêng ngân hàng: 9986 người.\\nĐộ tuổi bình quân của nhân viên MB: 31 tuổi.\\nTỉ lệ nhân sự có thâm niên làm việc trên 3 năm tại MB là 93%.\\nNăm 2022, với chuỗi chương trình MB Chasing - Pursuit the Banker Road, MB Young Talent, MB Data Tech Beginners, MB dành nhiều sự chú tâm xây dựng các chương trình giúp sinh viên, nguồn lực trẻ được tiếp cận sớm, có trải nghiệm với nghề ngân hàng.\\nCác chia sẻ chuyên môn, kỹ năng từ các chuyên gia của MB gắn với thực tiễn học tập – công việc như: Build up Your LinkedIn - Light up Your Careers'}\n",
      "------------------------------\n",
      "{'question': 'Chủ tịch hội đồng quản trị năm 2023', 'answer': 'Ông Lưu Trung Thái - Chủ tịch Hội đồng quản trị'}\n",
      "------------------------------\n",
      "{'question': 'Cách xin cấp quyền truy cập các hệ thống nghiệp vụ khác', 'answer': 'Trong quá trình làm việc nếu cần xin cấp quyền truy cập các hệ thống nghiệp vụ khác, bạn có thể gửi đề nghị tại đây: \"https://iam.mbbank.com.vn\", bộ phận Công nghệ Thông tin sẽ hỗ trợ bạn các bước tiếp theo.'}\n",
      "------------------------------\n",
      "{'question': 'Chính sách và phúc lợi cho nhân viên MB toàn thời gian năm 2023 là gì', 'answer': 'Phúc lợi cho nhân viên toàn thời gian: \\n    - Xây dựng và ban hành các quy định, hướng dẫn về công tác thi đua khen thưởng rõ ràng, hiệu quả\\n    - Thực hiện đánh giá, khen thưởng định kỳ 6 tháng/lần hàng năm những tập thể, cá nhân có thành tính nổi bật trong các hoạt động kinh doanh\\n    - Thực hiện khen thưởng cá nhân, tập thể với những trường hợp đạt kết quả đột phá, có những sáng kiến áp dụng hiệu quả vào thực tế hoạt động kinh doanh của ngân hàng, có những hành động xã hội tiêu biểu như thực hiện từ thiện, các dự án cộng đồng, v.v.\\n    - Thường xuyên xây dựng các mô hình thi đua theo chủ đề, lĩnh vực hoạt động, sản phẩm kinh doanh của từng giai đoạn, phù hợp với quá trình và xu thế hoạt động của ngân hàng trong năm \\n    - Các hình thức khen thưởng được áp dụng bao gồm: tiền thưởng, quà tặng, giao lưu khen thưởng, bằng khen, kỉ niệm chương, vinh danh truyền thông toàn Ngân hàng'}\n",
      "------------------------------\n",
      "{'question': 'Chào hỏi', 'answer': 'Xin chào, xin chào! Happy Hub xin sẵn lòng hỗ trợ, hãy cho mình biết thông tin bạn quan tâm nhé!!!'}\n",
      "------------------------------\n",
      "{'question': 'Chào hỏi', 'answer': 'Chuyện gì khó, có Happy Hub lo!!! Hãy để mình hỗ trợ bạn nhé'}\n",
      "------------------------------\n",
      "{'question': 'Chính sách và phúc lợi cho nhân viên MB năm 2023 là gì', 'answer': '1. MB không ngừng nỗ lực đổi mới và cập nhật thường xuyên cơ chế, chính sách áp dụng cho cán bộ nhân viên để hoàn thiện toàn diện hệ thống lương, thưởng & phúc lợi. Chính sách của MB dành cho Người lao động đa dạng về hình thức, được cá nhân hóa theo nhu cầu, hướng tới tính dài hạn nhằm khuyến khích gắn kết, nâng cao tinh thần, hiệu suất làm việc tối đa: tổ chức các chương trình đãi ngộ, tri ân cán bộ nhân viên có thâm niên gắn bó lâu dài tại MB, áp dụng chính sách thưởng thành tích tích lũy, hỗ trợ kinh phí thể thao, hỗ trợ chi phí trông trẻ, bảo hiểm sức khỏe, bảo hiểm nhân thọ…. MB tiên phong trong việc triển khai hình thức đãi ngộ hưu trí bổ sung tự nguyện An thịnh cho cán bộ nhân viên nhằm gia tăng thu nhập, đảm bảo cuộc sống an nhàn, sung túc cho cán bộ nhân viên trong giai đoạn hưu trí. Bên cạnh đó, các chính sách của MB không chỉ tập trung vào cán bộ nhân viên mà còn dành sự quan tâm thường xuyên tới gia đình thông qua các chương trình thăm hỏi, tặng quà, hỗ trợ gói bảo hiểm sức khỏe... tạo cho người lao động một môi trường thoải mái và tinh thần yên tâm cống hiến cho tổ chức.\\n2. Phúc lợi cho nhân viên toàn thời gian: \\n Xây dựng và ban hành các quy định, hướng dẫn về công tác thi đua khen thưởng rõ ràng, hiệu quả\\n Thực hiện đánh giá, khen thưởng định kỳ 6 tháng/lần hàng năm những tập thể, cá nhân có thành tích nổi bật trong các hoạt động kinh doanh\\n Thực hiện khen thưởng cá nhân, tập thể với những trường hợp đạt kết quả đột phá, có những sáng kiến áp dụng hiệu quả vào thực tế hoạt động kinh doanh của ngân hàng, có những hành động xã hội tiêu biểu như thực hiện từ thiện, các dự án cộng đồng, v.v.\\n Thường xuyên xây dựng các mô hình thi đua theo chủ đề, lĩnh vực hoạt động, sản phẩm kinh doanh của từng giai đoạn, phù hợp với quá trình và xu thế hoạt động của ngân hàng trong năm \\n Các hình thức khen thưởng được áp dụng bao gồm: tiền thưởng, quà tặng, giao lưu khen thưởng, bằng khen, kỉ niệm chương, vinh danh truyền thông toàn Ngân hàng'}\n",
      "------------------------------\n",
      "{'question': 'Văn hóa phát triển bền vững của MB năm 2022 là gì?', 'answer': 'Trong suốt những năm hình thành và phát triển, bằng ý chí, niềm tin và sự nỗ lực không ngừng, MB đã có được vị thế trên thị trường Ngân hàng - Tài chính ở Việt Nam. Bên cạnh những con số, chỉ tiêu ấn tượng đạt được trong tổ chức hoạt động kinh doanh, MB còn tạo ra những giá trị hết sức quý giá, đó là nếp nghĩ, cách ứng xử và hành động riêng có của Người MB, đó là Văn hóa MB. Trước những thay đổi liên tục của kinh tế - xã hội, Văn hóa MB là nền tảng thúc đẩy hoạt động đổi mới, sáng tạo không ngừng, nâng cao chất lượng, sức cạnh tranh, giúp MB vững bước trên hành trình triển khai Chiến lược Phát triển bền vững.'}\n",
      "------------------------------\n",
      "{'question': 'utter_ket_thuc', 'answer': 'Happy Hub hẹn gặp lại và chúc bạn một ngày làm việc suôn sẻ'}\n",
      "------------------------------\n",
      "{'question': 'Các ấn phẩm truyền thông nội bộ của MB là gì?', 'answer': 'Ấn phẩm truyền thông nội bộ: Bản tin phát thanh: Nhà M-Xanh, Tạp chí Công nghệ Beetech, Tạp chí Học tập Thrive.'}\n",
      "------------------------------\n",
      "{'question': 'Số lượng khách hàng năm 2023', 'answer': '26,5 triệu khách hàng'}\n",
      "------------------------------\n",
      "{'question': 'Chào hỏi', 'answer': 'Chào bạn, mình là Happy Hub rất vui khi được hỗ trợ bạn. Bạn đang quan tâm tới vấn đề gì? Vui lòng cho mình biết để bên mình hỗ trợ nhé!'}\n",
      "------------------------------\n",
      "{'question': 'Văn hóa phát triển bền vững của MB năm 2023 là gì?', 'answer': 'MB đã xây dựng Bộ quy tắc ứng xử và đạo đức nghề nghiệp dựa trên 6 giá trị cốt lõi nhằm giúp CBNV luôn ứng xử phù hợp và định hướng cho các quyết định của mỗi CBNV, là nền tảng của văn hóa bền vững tại MB. Việc tuân thủ các chuẩn mực quy định trong Bộ quy tắc này là trách nhiệm của mỗi CBNV MB, bao gồm từ cấp HĐQT, Ban Kiểm soát, Ban Điều hành đến từng CBNV, nhằm góp phần bảo vệ danh tiếng và uy tín của Ngân hàng. CBNV MB không được đánh đổi lợi ích mà vi phạm chuẩn mực đạo đức nghề nghiệp và quy tắc ứng xử tại MB.\\nVăn hóa bền vững dựa trên các giá trị chuẩn mực đạo đức đã được truyền tải trong bộ cẩm nang về phương pháp làm việc MB1688 với ý nghĩa củng cố giá trị văn hóa cốt lõi, triển khai phương pháp làm việc mới, cùng với việc phát động Cuộc thi áp dụng phương pháp làm việc MB1688 đã gây ấn tượng mạnh trong toàn bộ CBNV, nâng cao nhận thức của CBNV về các giá trị của phương pháp, quy tắc, chuẩn mực được MB xây dựng và phát triển.'}\n",
      "------------------------------\n",
      "{'question': 'Cách làm thẻ nhân viên/ card visit', 'answer': 'Khi cần làm thẻ nhân viên hoặc Card visit bạn vui lòng liên hệ với HR đơn vị để được hỗ trợ.'}\n",
      "------------------------------\n",
      "{'question': 'Số lượng khách hàng năm 2022', 'answer': '20 triệu khách hàng'}\n",
      "------------------------------\n",
      "{'question': 'Chính sách và phúc lợi cho nhân viên MB toàn thời gian năm 2022 là gì', 'answer': 'Phúc lợi cho nhân viên toàn thời gian: \\n        - Xây dựng và ban hành các quy định, hướng dẫn về công tác thi đua khen thưởng rõ ràng, hiệu quả\\n        - Thực hiện đánh giá, khen thưởng định kỳ 6 tháng/lần hàng năm những tập thể, cá nhân có thành tính nổi bật trong các hoạt động kinh doanh\\n        - Thực hiện khen thưởng cá nhân, tập thể với những trường hợp đạt kết quả đột phá, có những sáng kiến áp dụng hiệu quả vào thực tế hoạt động kinh doanh của ngân hàng, có những hành động xã hội tiêu biểu như thực hiện từ thiện, các dự án cộng đồng, v.v.\\n        - Thường xuyên xây dựng các mô hình thi đua theo chủ đề, lĩnh vực hoạt động, sản phẩm kinh doanh của từng giai đoạn, phù hợp với quá trình và xu thế hoạt động của ngân hàng trong năm \\n        - Các hình thức khen thưởng được áp dụng bao gồm: tiền thưởng, quà tặng, giao lưu khen thưởng, bằng khen, kỉ niệm chương, vinh danh truyền thông toàn Ngân hàng'}\n",
      "------------------------------\n",
      "{'question': 'Tầm nhìn sứ mệnh của MB là gì?', 'answer': 'Tầm nhìn: Trở thành Doanh nghiệp số, Tập đoàn tài chính dẫn đầu\\n Sứ mệnh: Vì sự phát triển của đất nước, vì lợi ích của khách hàng\\n Giá trị cốt lõi: Đoàn kết – Kỷ luật – Tận tâm - Thực thi – Tin cậy – Hiệu quả'}\n",
      "------------------------------\n",
      "{'question': 'Đãi ngộ gắn kết, thâm niên tại MB thế nào', 'answer': 'Đãi ngộ gắn kết:\\n        - Quà tặng sinh nhật\\n        - Ngày nghỉ sinh nhật\\n        - Quà Tết nguyên đán\\n        - Đãi ngộ thâm niên 10 năm, 20 năm, 25 năm, 30 năm\\n        - Làm bạn cùng con yêu\\n        Hoặc theo chính sách của MB từng thời kỳ'}\n",
      "------------------------------\n",
      "{'question': 'Đâu là chuẩn mực văn hóa của MB năm 2023', 'answer': 'Tham khảo Báo cáo thường niên 2023: https://www.mbbank.com.vn/Investor/bao-cao-thuong-nen/2023/0/0'}\n",
      "------------------------------\n",
      "{'question': 'Quy trình cấp, quản lý phân quyền truy cập các hệ thống thông tin', 'answer': 'Quy trình cấp, quản lý phân quyền truy cập các hệ thống thông tin tại MB:QT.B9.VH&HT.(9.5.2), xem thêm tại https://vbnb.mbbank.com.vn/'}\n",
      "------------------------------\n",
      "{'question': 'Các thông điệp', 'answer': 'Bạn muốn biết thông điệp nào:\\n- Thông điệp của ban lãnh đạo\\n- Thông điệp của chủ tịch hội đồng quản trị năm 2023\\n- Thông điệp của chủ tịch hội đồng quản trị năm 2022\\n- Thông điệp của tổng giám đốc năm 2023\\n- Thông điệp của tổng giám đốc năm 2022'}\n",
      "------------------------------\n",
      "{'question': 'Quy trình mua sắm', 'answer': 'Quy trình mua sắm:QT.B12.(12.1).MS, xem thêm tại https://vbnb.mbbank.com.vn/'}\n",
      "------------------------------\n",
      "{'question': 'Đâu là chuẩn mực văn hóa của MB năm 2022', 'answer': 'Tham khảo Báo cáo thường niên 2022: https://www.mbbank.com.vn/Investor/bao-cao-thuong-nen/2022/0/0'}\n",
      "------------------------------\n",
      "{'question': 'Các năng lực chiến lược MBers cần có là gì?', 'answer': 'Sáng tạo để đổi mới, linh hoạt\\n Kỷ luật để vươn tới mục tiêu khát vọng\\n Hợp tác vì khách hàng dựa trên nền tảng công nghệ số'}\n",
      "------------------------------\n",
      "{'question': 'Giá trị cốt lõi của MB là gì?', 'answer': 'Tầm nhìn: Trở thành Doanh nghiệp số, Tập đoàn tài chính dẫn đầu\\n Sứ mệnh: Vì sự phát triển của đất nước, vì lợi ích của khách hàng\\n Giá trị cốt lõi: Đoàn kết – Kỷ luật – Tận tâm - Thực thi – Tin cậy – Hiệu quả'}\n",
      "------------------------------\n",
      "{'question': 'Phần mềm số văn bản nội bộ (VBNB)', 'answer': 'Phần mềm số văn bản nội bộ (VBNB) https://vbnb.mbbank.com.vn'}\n",
      "------------------------------\n",
      "{'question': 'Bảo hiểm và chăm sóc sức khỏe cho nhân viên và người thân thế nào?', 'answer': 'Bảo hiểm sức khoẻ và tai nạn nhóm (MIC) cho MBers và người thân\\n Bảo hiểm nhân thọ\\n Bảo hiểm công tác nước ngoài\\n Khám sức khoẻ định kỳ, nghỉ mát\\n Hỗ trợ tử tuất, bệnh hiểm nghèo, ốm đau dài ngày, có hoàn cảnh đặc biệt khó khăn\\n Hỗ trợ kinh phí thể thao\\n Hoặc theo chính sách của MB từng thời kỳ'}\n",
      "------------------------------\n",
      "{'question': 'Chào hỏi', 'answer': 'Happy Hub luôn sẵn lòng hỗ trợ bạn'}\n",
      "------------------------------\n",
      "{'question': 'Thông điệp của ban lãnh đạo MB là gì', 'answer': 'MBers 3 cao: Năng lực cao, cam kết cao, kỉ luật cao'}\n",
      "------------------------------\n",
      "{'question': 'Các kênh mạng xã hội của MBers', 'answer': 'Kết nối làm quen với MBers trên mạng xã hội'}\n",
      "------------------------------\n",
      "{'question': 'Quy mô địa bàn của ngân hàng năm 2023', 'answer': 'Đến tháng 12/2023, hệ thống mạng lưới MB có 322 điểm mạng lưới được cấp phép hoạt động, tăng 13 điểm mạng lưới so với năm 2022 với 01 hội sở chính'}\n",
      "------------------------------\n",
      "{'question': 'Ban điều hành của MB năm 2022', 'answer': 'Ông Lưu Trung Thái - Phó chủ tịch HĐQT kiêm Tổng giám đốc'}\n",
      "------------------------------\n",
      "{'question': 'Các thông tin về Ngân Hàng MB năm 2022', 'answer': 'Thông tin khái quát \\t\\nTên đầy đủ bằng tiếng Việt: Ngân hàng thương mại cổ phần Quân đội\\nTên viết tắt: Ngân hàng Quân đội (MB)\\nTên đầy đủ bằng tiếng Anh: Military Commercial Joint stock Bank\\nNgày thành lập: 4/11/1994\\nVốn điều lệ tính đến 31/12/2022: 45.339.861 triệu đồng\\nMã chứng khoán: MBB\\nGiấy chứng nhận đăng ký kinh doanh số 0100283873 do Sở Kế hoạch và đầu tư thành phố Hà Nội cấp đăng ký lần đầu ngày  30/09/1994, thay đổi lần thứ 51 ngày 14/12/2022\\nTrụ sở chính: Tòa nhà MB, số 18 Lê Văn Lương, Phường Trung Hòa, Quận Cầu Giấy, Thành phố Hà Nội, Việt Nam\\nĐiện thoại: 024 62661088\\nFax: 024 62661080\\nEmail: info@mbbank.com.vn\\nWebsite: www.mbbank.com.vn'}\n",
      "------------------------------\n",
      "{'question': 'Các thông tin về Ngân Hàng MB năm 2023', 'answer': 'Thông tin khái quát \\t\\nTên đầy đủ bằng tiếng Việt: Ngân hàng thương mại cổ phần Quân đội\\nTên viết tắt: Ngân hàng Quân đội (MB)\\nTên đầy đủ bằng tiếng Anh: Military Commercial Joint stock Bank\\nNgày thành lập: 4/11/1994\\nVốn điều lệ tính đến 31/12/2023: 52.140.841 triệu đồng\\nMã chứng khoán: MBB\\nGiấy chứng nhận đăng ký kinh doanh số 0100283873 do Sở Kế hoạch và đầu tư thành phố Hà Nội cấp đăng ký lần đầu ngày 30/09/1994, thay đổi lần thứ 53 ngày 23/08/2023\\nTrụ sở chính: Tòa nhà MB, số 18 Lê Văn Lương, Phường Trung Hòa, Quận Cầu Giấy, Thành phố Hà Nội, Việt Nam\\nĐiện thoại: 024 62661088\\nFax: 024 62661080\\nEmail: info@mbbank.com.vn\\nWebsite: www.mbbank.com.vn'}\n",
      "------------------------------\n",
      "{'question': 'Cách sử dụng hệ thống HCM', 'answer': 'Bạn sử dụng thông tin email và password được cung cấp để truy cập hệ thống HCM \"https://hcm.mbbank.com.vn\". Tại đây bạn có thể kiểm tra và cập nhật các thông tin cá nhân như: thông tin định danh, thông tin người thân, quá trình làm việc trước khi gia nhập MB, thông tin đào tạo: bằng cấp, chứng chỉ. Hoặc xem thông tin lương, các chế độ đãi ngộ bằng việc chọn mục \"Thông tin lương\" tại màn hình trang chủ.'}\n",
      "------------------------------\n",
      "{'question': 'Ban điều hành của MB năm 2023', 'answer': 'Ông Phạm Như Ánh - Tổng giám đốc'}\n",
      "------------------------------\n",
      "{'question': 'Tạm biệt', 'answer': 'Rất vui vì đã hỗ trợ được bạn, nếu cần bất cứ thắc mắc nào, xin vui lòng liên hệ với chúng tôi. Chân thành cảm ơn'}\n",
      "------------------------------\n",
      "{'question': 'Cách xem thông tin cá nhân', 'answer': 'Bạn sử dụng thông tin email và password được cung cấp để truy cập hệ thống HCM \"https://hcm.mbbank.com.vn\". Tại đây bạn có thể kiểm tra và cập nhật các thông tin cá nhân như: thông tin định danh căn cước công dân, thông tin người thân, quá trình làm việc trước khi gia nhập MB, thông tin đào tạo: bằng cấp, chứng chỉ. Hoặc xem thông tin lương, các chế độ đãi ngộ tại: https://ords.mbbank.com.vn'}\n",
      "------------------------------\n",
      "{'question': 'Lộ trình phát triển, con đường công danh', 'answer': 'Lộ trình phát triển: Thử việc/ thử thách -> Trở thành Mbers chính thức -> Tiến bộ, phát triển và trưởng thành cùng MB'}\n",
      "------------------------------\n",
      "{'question': 'Các ngành nghề mà MB kinh doanh', 'answer': 'Hoạt động dịch vụ tài chính\\nBán buôn kim loại và quặng kim loại\\nHoạt động của đại lý và môi giới bảo hiểm\\nHoạt động trung gian tiền tệ khác'}\n",
      "------------------------------\n",
      "{'question': 'Hệ thống văn phòng điện tử (M-office)', 'answer': 'Hệ thống văn phòng điện tử M-office (MOF): https://moffice.mbbank.com.vn\\nĐể tìm hiểu các công văn đến, công văn đi, đăng ký phòng họp, lịch làm việc…'}\n",
      "------------------------------\n",
      "{'question': 'Sự thay đổi về nhân sự cấp cao của ngân hàng MB là gì', 'answer': 'Thay đổi về nhân sự trong Hội đồng quản trị và Ban điều hành: Năm 2023, MB có sự chuyển giao Chủ tịch HĐQT: Theo nguyện vọng cá nhân, Ông Lê Hữu Đức đã xin từ nhiệm vị trí Chủ tịch HĐQT và thôi là Thành viên HĐQT MB. Theo đó, HĐQT đã bầu Ông Lưu Trung Thái giữ vị trí Chủ tịch HĐQT MB từ 12/04/2023 và trong thời gian còn lại của nhiệm kỳ 2019 - 2024. Ông Phạm Như Ánh được bổ nhiệm Phó Tổng Giám Đốc phụ trách Ban Điều hành từ ngày 12/4/2023 và Tổng Giám đốc từ ngày 18/5/2023'}\n",
      "------------------------------\n",
      "{'question': 'Quy chế nhân sự', 'answer': 'Quy chế nhân sự:QCĐH.B8.QCNS, xem thêm tại https://vbnb.mbbank.com.vn/'}\n",
      "------------------------------\n",
      "{'question': 'Học tập, đào tạo trực tuyến E learning', 'answer': 'Các khóa E-learning được đăng tải trên Hệ thống đào tạo trực tuyến https://edu-web.mbbank.com.vn. Học tập hàng tuần trên NANO-Learning Series'}\n",
      "------------------------------\n",
      "{'question': 'Lợi nhuận trước thuế của tập đoàn MB năm 2022', 'answer': '22729 tỷ đồng'}\n",
      "------------------------------\n",
      "{'question': 'Các công ty con của MB', 'answer': '1. Tên Công ty: Công ty cổ phần Chứng khoán MB\\n   Tên tiếng Anh: MB Securities Joint Stock Company\\n   Tên viết tắt: MBS\\n   Link website: www.mbs.com.vn \\n2. Tên Công ty: Công ty cổ phần Quản lý Quỹ đầu tư MB\\n   Tên tiếng Anh: MB Fund Management Stock Company\\n   Tên viết tắt: MBCapital\\n   Link website: www.mbcapital.com.vn \\n3. Tên Công ty: Công ty Quản lý nợ và Khai thác tài sản Ngân hàng TMCP Quân Đội (AMC)\\n   Tên tiếng Anh: MB Assets Management Company Limited.\\n   Tên viết tắt: MBAMC\\n   Link website: www.mbamc.com.vn\\n4. Tên Công ty: Công ty Tài chính TNHH MB Shinsei\\n   Tên tiếng Anh: MB Shinsei Finance Limited Liability Company\\n   Tên viết tắt: MS Finance\\n   Link website: www.mcredit.com.vn \\n5. Tên Công ty: Tổng công ty cổ phần Bảo hiểm Quân đội (MIC)\\n   Tên tiếng Anh: Military Insurance Corporation\\n   Tên viết tắt: MIC\\n   Link website: www.mic.vn \\n6. Tên Công ty: Công ty TNHH Bảo hiểm Nhân thọ MB Ageas (MBAL)\\n   Tên tiếng Anh: MB Ageas Life Insurance Company Limited\\n   Tên viết tắt: MBAL\\n   Link website: www.mbageas.life'}\n",
      "------------------------------\n",
      "{'question': 'Cơ cấu quản trị của ngân hàng MB năm 2022', 'answer': 'Báo cáo thường niên 2022: https://www.mbbank.com.vn/Investor/bao-cao-thuong-nen/2022'}\n",
      "------------------------------\n",
      "{'question': 'Chủ tịch hội đồng quản trị năm 2022', 'answer': 'Ông Lê Hữu Đức - Chủ tịch Hội đồng quản trị'}\n",
      "------------------------------\n",
      "{'question': 'Đãi ngộ hưu trí', 'answer': 'Đãi ngộ hưu trí:\\n        - Hưu trí bổ sung tự nguyện An Thịnh\\n        - Đãi ngộ khi hưu trí: Tặng quà tại thời điểm nghỉ hưu'}\n",
      "------------------------------\n",
      "{'question': 'Tìm kiếm thông tin tuyển dụng ở đâu?', 'answer': 'Theo dõi các bản tin tuyển dụng nội bộ từ email: Phòng Tuyển dụng - Khối TCNS: tuyendung@mbbank.com.vn'}\n",
      "------------------------------\n",
      "{'question': 'Lợi nhuận trước thuế của tập đoàn MB năm 2023', 'answer': '26306 tỷ đồng'}\n",
      "------------------------------\n",
      "{'question': 'Tạm biệt', 'answer': 'Cảm ơn bạn đã thông tin tới chúng tôi vấn đề bạn quan tâm. Nếu cần hỗ trợ thêm, vui lòng liên hệ với chúng tôi. Cảm ơn và hân hạnh gặp bạn lần sau.'}\n",
      "------------------------------\n",
      "{'question': 'Cách sửa đổi, cập nhập căn cước công dân', 'answer': 'Bạn sử dụng thông tin email và password được cung cấp để truy cập hệ thống HCM \"https://hcm.mbbank.com.vn\". Tại đây bạn có thể kiểm tra và cập nhật các thông tin cá nhân như: thông tin định danh, thông tin người thân, quá trình làm việc trước khi gia nhập MB, thông tin đào tạo: bằng cấp, chứng chỉ. Hoặc xem thông tin lương, các chế độ đãi ngộ tại: https://ords.mbbank.com.vn'}\n",
      "------------------------------\n",
      "{'question': 'Các chức danh cần bổ sung phiếu lý lịch vào hồ sơ khi gia nhập MB là gì?', 'answer': 'Phiếu lý lịch tư pháp áp dụng đối với các vị trí sau tại MB:\\n1. Giám đốc Chi nhánh\\n2. Nhân sự tiếp nhận tại Khối Công nghệ thông tin ở các bộ phận:\\n Vận hành hệ thống CNTT\\n Quản trị ứng dụng CNTT\\n Quản trị Cơ sở dữ liệu\\n Vận hành và đảm bảo an ninh\\n4. Lái xe\\n5. Kiểm ngân\\n6. Trưởng quỹ\\n7. Vị trí kinh doanh trực tiếp tại Khối Nguồn vốn & Kinh doanh ngoại tệ\\n8. Các vị trí khác theo quy định của Pháp luật và MB từng thời kỳ'}\n",
      "------------------------------\n",
      "{'question': 'Thủ tục xin nghỉ phép như thế nào?', 'answer': 'Khi xin nghỉ phép Bạn cần hoàn tất các thủ tục sau:\\n Xin nghỉ trước ít nhất 3 ngày\\n Bàn giao công việc  đầy đủ\\n Được sự chấp thuận của cấp có thẩm quyền phê duyệt\\n Thực hiện đăng ký tại https://hcm.mbbank.com.vn/Đăng ký nghỉ / Đơn nghỉ của tôi để thực hiện đăng ký'}\n",
      "------------------------------\n",
      "{'question': 'Cơ cấu quản trị của ngân hàng MB năm 2023', 'answer': 'Báo cáo thường niên 2023: https://www.mbbank.com.vn/Investor/bao-cao-thuong-nen/2023'}\n",
      "------------------------------\n",
      "{'question': 'Đăng ký phòng họp như thế nào', 'answer': 'Bạn truy cập đường dẫn: https://moffice.mbbank.com.vn (hệ thống văn phòng điện tử) chọn Lịch/ Danh sách phòng họp rỗng hoặc vui lòng liên hệ với HR tại đơn vị để được hỗ trợ'}\n",
      "------------------------------\n",
      "{'question': 'Các hệ thống nội bộ MB', 'answer': 'Một số hệ thống nội bộ của MB:\\n1. Hệ thống quản trị nguồn nhân lực: https://hcm.mbbank.com.vn\\n2. Hệ thống văn phòng điện tử M-office: https://moffice.mbbank.com.vn\\nĐể tìm hiểu các công văn đến, công văn đi, đăng ký phòng họp, lịch làm việc…\\n3. Phần mềm số văn bản nội bộ: https://vbqp.mbbank.com.vn\\nĐể tìm hiểu về các văn bản nội bộ ở MB'}\n",
      "------------------------------\n",
      "{'question': 'Các thông tin ngoài lề', 'answer': 'Để tìm hiểu thông tin bạn vui lòng liên hệ với HR đơn vị hoặc đầu mối tại Phòng Dịch vụ Nhân sự'}\n",
      "------------------------------\n",
      "{'question': 'Quy trình vận hành nhân sự', 'answer': 'Quy trình vận hành nhân sự:QT.B8(8.3).VHNS, xem thêm tại https://vbnb.mbbank.com.vn/'}\n",
      "------------------------------\n",
      "{'question': 'Thông tin thưởng', 'answer': 'Thông tin thưởng:\\n - Thưởng sự kiện trong năm\\n - Thưởng tháng 13, các dịp Lễ, Tết\\n - Thưởng thành tích 6 tháng, 1 năm, tích luỹ\\n - Thưởng hiệu quả kinh doanh, thưởng khác: Danh hiệu, Dự án,...theo chính sách nhân sự'}\n",
      "------------------------------\n",
      "{'question': 'Một số văn bản quan trọng tại MB', 'answer': 'Một số văn bản quan trọng:\\n        1. Quy trình mua sắm:QT.B12.(12.1).MS, xem thêm tại https://vbnb.mbbank.com.vn\\n        2. Quy trình vận hành nhân sự:QT.B8(8.3).VHNS, xem thêm tại https://vbnb.mbbank.com.vn\\n        3. Quy chế nhân sự:QCĐH.B8.QCNS, xem thêm tại https://vbnb.mbbank.com.vn\\n        4. Nội quy lao động:QCQT.B8.NQLĐ, xem thêm tại https://vbnb.mbbank.com.vn\\n        5. Quy trình cấp, quản lý phân quyền truy cập các hệ thống thông tin tại MB:QT.B9.VH&HT.(9.5.2), xem thêm tại https://vbnb.mbbank.com.vn'}\n",
      "------------------------------\n",
      "{'question': 'Các câu lạc bộ ngoài giờ tại MB', 'answer': 'Bạn muốn theo đuổi đam mê sau giờ làm? Tìm hiểu thêm về các câu lạc bộ: Zumba, Yoga, Gym, Đạp xe, Happy Runners, Bóng đá,..'}\n",
      "------------------------------\n",
      "{'question': 'Những hồ sơ nào có thể nộp bản sao có công chứng', 'answer': 'Bạn chỉ cần nộp hồ sơ giấy khai sinh, bằng tốt nghiệp, bảng điểm là bản sao có công chứng. Đối với hồ sơ gốc bạn vui lòng mang theo để thực hiện đối chiếu.'}\n",
      "------------------------------\n",
      "{'question': 'Các loại đãi ngộ ở MB', 'answer': 'Các loại Đãi ngộ:\\n        - Đãi ngộ theo chức danh\\n        - Đãi ngộ gắn kết\\n        - Đãi ngộ bảo hiểm, chăm sóc sức khỏe cán bộ nhân viên/người thân\\n        - Đãi ngộ hưu trí\\n        - Hỗ trợ ốm đau, bệnh tật, khó khăn\\n        Hoặc theo chính sách của MB từng thời kỳ'}\n",
      "------------------------------\n",
      "{'question': 'Các nhóm nghề nghiệp tại MB', 'answer': '1. Kinh doanh\\n2. Công nghệ và đổi mới\\n3. Tài chính và chiến lược\\n4. Tiếp thị và truyền thông\\n5. Rủi ro, kiểm toán và tuân thủ\\n6. Quản trị nhân sự\\n7. Vận hành ngân hàng'}\n",
      "------------------------------\n",
      "{'question': 'Nội quy lao động', 'answer': 'Nội quy lao động:QCQT.B8.NQLĐ, xem thêm tại https://vbnb.mbbank.com.vn/'}\n",
      "------------------------------\n",
      "{'question': 'Chế độ trong thời gian nghỉ không hưởng lương như thế nào?', 'answer': 'Chế độ trong thời gian xin nghỉ không lương:\\n Không được tính vào thời gian làm việc, không được xét nâng lương, không được xét vào thâm niên công tác.\\n Không được xét khen thưởng, hưởng các phúc lợi liên quan tại MB.\\nNgoại trừ các trường hợp khác theo phê duyệt của cấp có thẩm quyền'}\n",
      "------------------------------\n",
      "{'question': 'Các sự kiện và hoạt động nội bộ tại MB là gì?', 'answer': 'Bạn có thể tham gia rất nhiều sự kiện và hoạt động nội bộ thú vị: Sinh nhật MB, BeeRace, Về nguồn, Hiến máu nhân đạo, Giải bóng đá Cúp Mùa xuân,…'}\n",
      "------------------------------\n",
      "{'question': 'Có cần đơn xin việc khi hoàn thiện hồ sơ gia nhập MB không?', 'answer': 'Ngoài các hồ sơ theo danh mục quy định chung, đối với Người lao động cao tuổi cần bổ sung thêm đơn xin việc'}\n",
      "------------------------------\n",
      "{'question': 'Các chức danh cần bổ sung giấy bảo lãnh vào hồ sơ khi gia nhập MB là gì?', 'answer': 'Đối với chức danh Lái xe, Kiểm ngân, Trưởng quỹ ngoài các hồ sơ chung cần bổ sung thêm Giấy giới thiệu bảo lãnh khi tiếp nhận mới'}\n",
      "------------------------------\n",
      "{'question': 'Quy định về chế độ ứng phép tại MB như thế nào?', 'answer': 'Quy định về chế độ ứng phép tại MB: Người lao động được ứng phép tối đa 05 ngày/ lần trong năm làm việc. Các trường hợp ứng phép phải được phê duyệt của cấp có Thẩm quyền theo quy định của MB từng thời kỳ.'}\n",
      "------------------------------\n",
      "{'question': 'Yêu cầu đối với người lao động nước ngoài khi hoàn thiện hồ sơ gia nhập MB', 'answer': 'Đối với người lao động nước ngoài yêu cầu bắt buộc khi tiếp nhận công việc ngoài các danh mục hồ sơ chung thì giấy phép lao động phải còn hiệu lực theo quy định của pháp luật Việt Nam từng thời kỳ.'}\n",
      "------------------------------\n",
      "{'question': 'Cách mở tài khoản thanh lương cho nhân viên MB?', 'answer': 'Bạn liên hệ với bộ phận giao dịch để thực hiện mở tài khoản thanh toán tại MB. Căn cứ theo TK thanh toán bạn đã mở, HR đơn vị sẽ thực hiện mở tài khoản lương tại MB và thực hiện thanh toán lương hàng tháng vào tài khoản này.'}\n",
      "------------------------------\n",
      "{'question': 'Quy định về giấy khám sức khỏe?', 'answer': 'Đối với kết quả kiểm tra sức khỏe: có hiệu lực trong vòng 6 tháng gần nhất và bao gồm danh mục kiểm tra theo quy định của Bộ Y tế từng thời kỳ.'}\n",
      "------------------------------\n",
      "{'question': 'Nhận mã nhân viên, email, password sau khi hoàn tất thủ tục tiếp nhận?', 'answer': 'Sau khi bạn hoàn tất thủ tục tiếp nhận: Mã nhân viên, email và password sẽ được gửi tới bạn vào ngày đầu tiên onboard qua tin nhắn điện thoại. Bạn có thể thay đổi mật khẩu tại: \"https://doimatkhau.mbbank.com.vn\".\\nTrong trường hợp chưa nhận được thông tin bạn vui lòng liên hệ với đầu mối HR tại đơn vị.'}\n",
      "------------------------------\n",
      "{'question': 'Ngày đầu tiên onboard tại MB cần kí những loại hợp đồng nào?', 'answer': 'Ngày đầu tiên onboard tại MB bạn sẽ được Chuyên viên nhân sự hướng dẫn để thực hiện giao kết hợp đồng thử việc, hợp đồng lao động. Ngoài ra bạn sẽ được hướng dẫn kí cam kết bảo mật thông tin, đơn gia nhập Công đoàn, hợp đồng đào tạo và các thủ tục khác nếu có.'}\n",
      "------------------------------\n",
      "{'question': 'Các loại hợp đồng nhân viên MB cần ký?', 'answer': 'Hợp đồng lao động tại MB bao gồm: Hợp đồng thử việc, Hợp đồng lao động xác định thời hạn và Hợp đồng lao động không xác định thời hạn.'}\n",
      "------------------------------\n",
      "{'question': 'Ngày đầu tiên onboard tại MB cần kí những loại hợp đồng nào?', 'answer': 'Theo quy định: đối với vị trí nhân viên bạn sẽ ký Hợp đồng thử việc, đối với vị trí chức danh đặc thù hoặc Cán bộ quản lý bạn sẽ ký Hợp đồng lao động xác định thời hạn có thời hạn 1 năm. Các trường hợp khác sẽ theo phê duyệt của cấp có thẩm quyền.'}\n",
      "------------------------------\n",
      "{'question': 'Thu nhập trung bình của nhân viên MB năm 2022', 'answer': 'Thu nhập trung bình của nhân viên ở mức: 35,2 triệu đồng/ tháng'}\n",
      "------------------------------\n",
      "{'question': 'Advisor buddy là gì?', 'answer': 'Advisor Buddy là người bạn đồng hành tin cậy trong suốt thời gian thử việc của bạn tại MB. Vào ngày đầu tiên gia nhập, quản lý trực tiếp sẽ giới thiệu Advisor Buddy cho bạn.\\nLiên hệ Advisor Buddy để khám phá \"nơi ăn - chỗ ngủ\", chỗ gửi xe,... tại văn phòng.'}\n",
      "------------------------------\n",
      "{'question': 'Thu nhập trung bình của nhân viên MB năm 2023', 'answer': 'Thu nhập trung bình của nhân viên ở mức: 35,4 triệu đồng/ tháng'}\n",
      "------------------------------\n",
      "{'question': 'Sau khi thử việc cần ký những loại hợp đồng nào', 'answer': 'Theo quy định sau khi ký Hợp đồng thử việc, bạn sẽ ký tiếp Hợp đồng lao động xác định thời hạn (lần 1 và lần 2) và Hợp đồng lao động không xác định thời hạn. Để tìm hiểu thông tin chi tiết, bạn vui lòng liên hệ với HR đơn vị hoặc Phòng Dịch vụ nhân sự để được hỗ trợ.'}\n",
      "------------------------------\n",
      "{'question': 'Làm thế nào để đăng ký thông tin faceid', 'answer': 'Tùy theo địa điểm làm việc tại MB: theo hướng dẫn bạn cần gặp trực tiếp người phụ trách hành chính tại đơn vị hoặc Khối Hành chính (Tầng 7, tòa nhà Hội Sở) để lấy thông tin. Khi đi bạn lưu ý cần cung cấp thông tin Mã nhân viên, email để được hỗ trợ tạo Face ID.Thời gian thực hiện lấy face_id là 15h - 16h ngày đầu tiên và ngày thứ hai sau khi onboard'}\n",
      "------------------------------\n",
      "{'question': 'Thời hạn thử việc tại MB là bao lâu?', 'answer': 'Thời hạn của hợp đồng thử việc được quy định không quá 60 ngày kể từ ngày giao kết.'}\n",
      "------------------------------\n",
      "{'question': 'Đổi mật khẩu các tài khoản của nhân viên MB như thế nào', 'answer': 'Bạn có thể thay đổi mật khẩu tại: \"https://doimatkhau.mbbank.com.vn\"'}\n",
      "------------------------------\n",
      "{'question': 'Cấp đồng phục nhân viên ở đâu', 'answer': 'Để được hỗ trợ thông tin về việc cấp phát đồng phục bạn vui lòng liên hệ với HR đơn vị để được hỗ trợ.'}\n",
      "------------------------------\n",
      "{'question': 'Làm gì khi bị mất mật khẩu mail?', 'answer': 'Làm thế nào nếu mật khẩu đăng nhập Email bị mất? Truy cập: https://hotrocntt.mbbank.com.vn hoặc email: itsupport@mbbank.com.vn'}\n",
      "------------------------------\n",
      "{'question': 'Có cần quyết định nghỉ việc khi hoàn thiện hồ sơ gia nhập MB không?', 'answer': 'Theo quy định đối với các vị trí cán bộ nhân viên trước khi tiếp nhận tại MB đã có kinh nghiệm làm việc cần có quyết định chấm dứt HĐLĐ và các văn bản tương đương để chứng minh đã hoàn tất trách nhiệm tại đơn vị cũ. Nếu thiếu quyết định chấm dứt HĐLĐ bạn vui lòng liên hệ lại đơn vị cũ để hoàn thiện hồ sơ theo yêu cầu.'}\n",
      "------------------------------\n",
      "{'question': 'Những hồ sơ nào cần chuẩn bị khi ngày đầu tiên gia nhập MB', 'answer': '1. Vào ngày đầu tiên gia nhập MB, bạn cần chuẩn bị và mang theo các hồ sơ sau đây:\\n        - Kết quả kiểm tra sức khỏe\\n        - Giấy khai sinh\\n        - Bằng tốt nghiệp + Bảng điểm\\n        - Căn cước công dân hoặc Hộ chiếu\\n        - Sơ yếu lý lịch\\n        Lưu ý: Các hồ sơ phải là bản sao có công chứng\\n        2. Đối với cán bộ nhân viên trước khi tiếp nhận tại MB đã có kinh nghiệm làm việc cần có quyết định chấm dứt HĐLĐ và các văn bản tương đương để chứng minh đã hoàn tất trách nhiệm tại đơn vị cũ. Nếu thiếu quyết định chấm dứt HĐLĐ bạn vui lòng liên hệ lại đơn vị cũ để hoàn thiện hồ sơ theo yêu cầu.\\n        3. Đối với Người lao động cao tuổi cần bổ sung thêm đơn xin việc.\\n        4. Đối với chức danh Lái xe, Kiểm ngân, Trưởng quỹ ngoài các hồ sơ chung cần bổ sung thêm Giấy giới thiệu bảo lãnh khi tiếp nhận mới'}\n",
      "------------------------------\n",
      "{'question': 'Quy định về chế độ nghỉ phép trong thời gian thử việc', 'answer': 'Chế độ nghỉ phép trong thời gian thử việc:\\n Trong thời gian thử việc, Người lao động chưa được thực hiện chế độ nghỉ phép hàng năm, tuy nhiên thời gian làm việc thực tế để tính ngày nghỉ phép hàng năm đối với Người lao động đã ký HĐLĐ với MB bao gồm cả thời gian thử việc.'}\n",
      "------------------------------\n",
      "{'question': 'Lỗi đăng nhập?', 'answer': 'Trong trường hợp không đăng nhập được máy do mật khẩu bị lỗi/ khóa: Bạn vui lòng liên hệ với HR đơn vị để được hỗ trợ.'}\n",
      "------------------------------\n",
      "{'question': 'Quy định về chế độ nghỉ phép có hưởng lương tại MB?', 'answer': 'Bạn có thời gian làm việc chưa đủ 12 tháng tại MB trong một năm, số ngày nghỉ phép được tính như sau: Số ngày nghỉ phép hàng năm được tính theo tỷ lệ tương ứng với số tháng làm việc trong năm. Bạn có thể xem số ngày nghỉ trong năm bằng cách truy cập vào đường dẫn: https://hcm.mbbank.com.vn/Đăng ký nghỉ / Đơn nghỉ của tôi'}\n",
      "------------------------------\n",
      "{'question': 'Thiết bị làm việc cho nhân viên mới bao gồm những gì?', 'answer': 'Công cụ làm việc cho nhân viên mới bao gồm: bộ máy tính để bàn/ laptop, điện thoại cố định, user kết nối các hệ thống và các công cụ khác đặc thù theo vị trí chức danh.'}\n",
      "------------------------------\n",
      "{'question': 'Được nghỉ không hưởng lương trong các trường hợp nào?', 'answer': 'Bạn được nghỉ không hưởng lương trong các trường hợp sau:\\n Ông bà nội, ông bà ngoại chết\\n Anh, chị em ruột kết hôn\\n Để giải quyết việc gia đình hoặc vì lý do sức khỏe được sự đồng ý của Người sử dụng lao động \\nHoặc các trường hợp khác theo phê duyệt của cấp có Thẩm quyền'}\n",
      "------------------------------\n",
      "{'question': 'Cần làm gì trong ngày đầu tiên đi làm(onboard)', 'answer': 'Bạn hãy dành thời gian phù hợp để cùng với cán bộ quản lý đến gặp trực tiếp mọi người trong đơn vị vào ngày đầu tiên gia nhập MB, ban cũng nên chuẩn bị một email thật ấn tượng để giới thiệu bản thân và gửi tới các đồng nghiệp.\\nGặp gỡ và làm quen trong ngày đầu tiên gia nhập MB giúp bạn thiết lập mối quan hệ làm việc tốt với đồng nghiệp, quản lý trực tiếp và mọi người xung quanh. Việc này giúp bạn dễ dàng tìm hiểu sâu hơn về Văn hóa của MB cũng như nhận được những sự hỗ trợ tuyệt vời từ mọi người trong suốt quá trình làm việc tại đây.'}\n",
      "------------------------------\n",
      "{'question': 'Cần làm gì trong thời gian thử việc tại MB?', 'answer': 'Trong ngày đầu tiên gia nhập MB, quản lý trực tiếp sẽ trao đổi và gửi cho bạn thông tin về bản mô tả công việc cùng mục tiêu công việc. Hãy cùng trao đổi với cán bộ quản lý nếu bạn có bất kì băn khoăn nào nhé.'}\n",
      "------------------------------\n"
     ]
    }
   ],
   "source": [
    "import json\n",
    "results = vector_db.search(\"tín dụng xanh\", top_k=1000)\n",
    "document = []\n",
    "for doc, score in results:\n",
    "    print(parse_qa_text(doc))\n",
    "    print('-'*30)"
   ]
  },
  {
   "cell_type": "code",
   "execution_count": 31,
   "metadata": {},
   "outputs": [],
   "source": [
    "inject_documents = [\n",
    "    \"\"\"Đóng góp tiêu biểu của MB trong phát triển bền vững năm 2023;\n",
    "1. Chuyển đổi số\n",
    "Tiếp tục đẩy mạnh chuyển đổi số và chuyển dịch khách hàng lên kênh số:\n",
    " Tỷ lệ giao dịch trên kênh số đạt 96,7% tương đương 2,3 tỷ giao dịch, tăng trưởng 87% so với 2022 - khẳng định vị trí dẫn đầu về giao dịch toàn ngành ngân hàng và tương đương với tỷ lệ giao dịch kênh số của các ngân hàng Top đầu châu Á.\n",
    " Đưa ra thị trường các sản phẩm số giúp đẩy mạnh thanh toán không dùng tiền mặt tích hợp trên App MBBank và Biz MBBank như: Vòng tay thanh toán Stellar; Phát triển công cụ thanh toán VietQR tiện lợi, dễ dàng cho khách hàng doanh nghiệp.\n",
    " Chuyển tiền quốc tế online (cá nhân và doanh nghiệp) chuyển dịch 43%, tương đương 62 nghìn giao dịch, chuyển dịch giải ngân số đạt 50%, tương đương 233 nghìn giao dịch, thu nợ chuyển dịch 95%, tương đương 1,2 triệu giao dịch.\n",
    "Triển khai Smartscan - số hóa hồ sơ:\n",
    " Chuyển dịch thẻ phi vật lý đạt 67%, tương đương 4,8 triệu thẻ phi vật lý, tiết kiệm chi phí in ấn và đóng gói thẻ.\n",
    " Triển khai Smartscan giúp lưu trữ 10 triệu file hồ sơ của khách hàng định danh, giảm 90% thời gian tìm kiếm và tra cứu hồ sơ, Chi phí vận hành và số lượng nhân sự vận hành/ khách hàng active giảm từ 25-30% so với 2022.\n",
    "2. Tín dụng xanh MB tích cực phát triển các sản phẩm tín dụng xanh đa dạng, phù hợp, hiệu quả tới đối tượng khách hàng mục tiêu:\n",
    " Tổng dư cấp tín dụng xanh (bao gồm cho vay và trái phiếu) năm 2023 đạt 64.960 tỷ đồng, cho 3.762 khách hàng, đang trên đà tăng so với các năm trước và tăng 47% so với năm 2022.\n",
    " Xây dựng các trường dữ liệu để nhận diện được các khách hàng/ sản phẩm/ chương trình xanh trên hệ thống.\n",
    "3. Môi trường\n",
    " Chiến dịch HiGreen – Bình minh xanh triển khai giai đoạn 1 - Thử thách chạy bộ, đã thu hút gần 30.000 người trên toàn quốc tham gia, hoàn thành 100% mục tiêu với 3 triệu km chạy bộ, 8,1 tỷ tiền tài trợ đối ứng trong năm 2023.\n",
    " Ra mắt thẻ HiGreen và kết nối với các đối tác theo tiêu chí có sứ mệnh, chiến lược bền vững, hoạt động tuân thủ tiêu chí ESG như MasterCard, Xanh SM, Coolmate, Cocoon. . .\n",
    " MB thay thế loại bóng chiếu sáng tiết kiệm 40% tại văn phòng.\n",
    " Rác thải nội bộ được phân loại ngay từ đầu nguồn tại điểm thu rác các tầng văn phòng bao gồm loại hữu cơ dễ phân hủy và vô cơ khó phân hủy\n",
    "4. Con người MB\n",
    "Các chương trình nổi bật hướng tới xây dựng văn hóa bền vững trong tổ chức bao gồm:\n",
    " Chương trình Flexi Z thu hút gần 1.700 nhân sự tập đoàn với mục tiêu đào tạo nhân sự 9x cho vị trí lãnh đạo cấp cao.\n",
    " Đào tạo bồi dưỡng nâng cao chất lượng nguồn lực thông qua chuỗi các chương trình đào tạo MB Leader, năng lực Digital, Bee Smart... Đặc biệt, các lớp đào tạo nhận thức về Phát triển bền vững được tổ chức trong năm 2023 cho hơn 120 cán bộ nhân viên đến từ khối Hội sở để đẩy mạnh hiệu quả triển khai tại các đơn vị.\n",
    " Xây dựng Bộ cẩm nang MB 1688 - Phương pháp làm việc của người MB giúp cán bộ nhân viên MB chuyển đổi tư duy số, trang bị các phương pháp số để thực thi công việc, phục vụ khách hàng theo một cách nhất quán với tầm nhìn, mục tiêu, định hướng của MB.\n",
    " Triển khai phong trào sáng kiến cải tiến hoạt động, sản phẩm dịch vụ (Beevoice), nâng cao tiếng nói của các MBer.\n",
    " Tổng số lượng học viên tham gia các khóa học trong năm 2023: 11.737 CBNV.\n",
    " Số giờ đào tạo bình quân năm 2023: 51,22 giờ (bao gồm cả đào tạo tân tuyển).\n",
    "5. Cộng đồng\n",
    " Hơn 100 chương trình an sinh xã hội với tổng kinh phí đạt 247 tỷ đồng.\n",
    " MB đã có điểm giao dịch tại 05/10 tỉnh khó khăn nhất cả nước (Sơn La, Điện Biên, Gia Lai, Lào Cai, Yên Bái).\n",
    " Nền tảng xã hội thiện nguyện cung cấp tiện ích cho gần 1.200 tổ chức và cá nhân gây quỹ, tổ chức hơn 3.200 chiến dịch tính tới hết năm 2023\n",
    "\"\"\",\n",
    "    \"\"\"Đóng góp tiêu biểu của MB trong phát triển bền vững năm 2022\n",
    "1. Kinh doanh: Lợi nhuận trước thuế hợp nhất: 22,729 tỷ đồng, Tổng vốn cho vay dự án xanh: 44,148 tỷ đồng (tăng 7% so với năm 2021).\n",
    "2. Môi trường: Gần một triệu khách hàng tham gia chiến dịch cùng MB phủ xanh Việt Nam , chung tay bằng cách đổi điểm MB star trên ứng dụng app MBBank.\n",
    "3. Nhân lực: MB ra mắt kênh học tập mới Nano series learning cho cán bộ nhân viên giúp MBers chủ động Học tập nhanh - Ứng dụng nhanh - Chuyển đổi nhanh (số giờ đào tạo bình quân năm 2022 là 35 giờ/ người/ năm)\n",
    "4. Cộng đồng: MB đóng góp 84 chương trình An sinh xã hội với 233 tỷ đồng. Dự án \"Xây dựng mạng xã hội thiện nguyện Việt Nam\" đã đạt giải A cuộc thi \"Sáng kiến vì cộng đồng\" lần thứ IV\n",
    "5. Quản trị:  MB có thành viên HĐQT chuyên trách các vấn đề về PTBV. Nỗ lực thực hiện các cam kết về thực hành quản trị công ty phù hợp quy định pháp luật Việt Nam hiện hành, tham chiếu và nghiên cứu áp dụng những thông lệ tốt trong nước và quốc tế như Thông lệ tốt về QTCT của Việt Nam - VN CG Code và Nguyên tắc QTCT của OECD, v.v.\"\"\",    \n",
    "\"\"\"Nguyên tắc quản trị của MB trong phát triển bền vững là gì\n",
    " Trách nhiệm với môi trường: quản trị và kiểm soát rủi ro môi trường – xã hội trong hoạt động cho vay và sau vay của ngân hàng, xác định các cơ hội liên quan tới môi trường trong hoạt động kinh doanh.\n",
    " Trách nhiệm với xã hội: thúc đẩy bình đẳng, tôn trọng các nguyên tắc quyền con người trong các chương trình và hoạt động kinh doanh của 2 ngân hàng. \n",
    " Trách nhiệm với chính ngân hàng: nâng cao năng lực quản trị; tăng cường đào tạo, nâng cao chất lượng nguồn nhân lực; thúc đẩy văn hóa ngân hàng xanh tới toàn thể cán bộ, nhân viên ngân hàng; minh bạch thông tin trong nội bộ ngân hàng và các bên liên quan.\n",
    "\"\"\",\n",
    "\"\"\"Cam kết của MB để phát triển bền vững là gì?;\n",
    " MB quyết tâm chuyển đổi số mạnh mẽ. Sản phẩm, dịch vụ của MB hướng đến tăng trải nghiệm khách hàng, đề cao áp dụng tiêu chí ESG, góp phần thay đổi tích cực đến xã hội và kinh tế.\n",
    " Kinh doanh có trách nhiệm - hướng đến cung cấp các dịch vụ tín dụng và thanh toán trong các lĩnh vực thân thiện với môi trường.\n",
    " Đảm bảo nghĩa vụ tài chính, hỗ trợ thúc đẩy tăng trưởng kinh tế, đảm bảo kinh doanh liêm chính, nỗ lực thực hiện các cam kết với người lao động.\n",
    "\"\"\",\n",
    "\"\"\"Xếp hạng tín dụng của MB năm 2022;\n",
    "Xếp hạng tín nhiệm MB từ B lên BB với triển vọng Tích cực góp phần khẳng định hoạt động an toàn, bền vững (theo Fitch Ratings)\"\"\"\n",
    "]"
   ]
  },
  {
   "cell_type": "code",
   "execution_count": 32,
   "metadata": {},
   "outputs": [],
   "source": [
    "def answer_mb_info_query(query: str):\n",
    "    import json\n",
    "    results = vector_db.search(query=query, top_k=5)\n",
    "    documents = [doc for doc in inject_documents]\n",
    "    # for doc, score in results:\n",
    "    #     documents.append(str(parse_qa_text(doc)))\n",
    "    system_prompt = mb_info_query_template.format(documents = '\\n-----------------------------\\n'.join(documents))\n",
    "    \n",
    "    # print(system_prompt)\n",
    "    \n",
    "    mb_query_messages = [\n",
    "        {\"role\": \"user\", \"content\": system_prompt},\n",
    "        {\"role\": \"user\", \"content\": query},\n",
    "    ]\n",
    "    response = model.run(mb_query_messages) # type: ignore\n",
    "    for chunk in response:\n",
    "        print(chunk.choices[0].delta.content, end=\"\")"
   ]
  },
  {
   "cell_type": "code",
   "execution_count": 34,
   "metadata": {},
   "outputs": [
    {
     "name": "stdout",
     "output_type": "stream",
     "text": [
      "Chiến dịch HiGreen – Bình minh xanh của MB đã triển khai giai đoạn 1 - Thử thách chạy bộ và thu hút gần 30.000 người trên toàn quốc tham gia. Chiến dịch đã hoàn thành 100% mục tiêu với 3 triệu km chạy bộ,  góp phần nâng cao nhận thức về lối sống xanh và bảo vệ môi trường.\n",
      "\n",
      "Ngoài ra, MB còn triển khai thẻ tín dụng và tài khoản thanh toán mang tên HiGreen, một phần lợi nhuận từ các sản phẩm này sẽ được dùng để thực hiện các dự án vì môi trường. \n"
     ]
    }
   ],
   "source": [
    "answer_mb_info_query(\"chiến dịch Hi Green\")"
   ]
  },
  {
   "cell_type": "code",
   "execution_count": null,
   "metadata": {},
   "outputs": [],
   "source": []
  }
 ],
 "metadata": {
  "kernelspec": {
   "display_name": ".venv",
   "language": "python",
   "name": "python3"
  },
  "language_info": {
   "codemirror_mode": {
    "name": "ipython",
    "version": 3
   },
   "file_extension": ".py",
   "mimetype": "text/x-python",
   "name": "python",
   "nbconvert_exporter": "python",
   "pygments_lexer": "ipython3",
   "version": "3.9.19"
  }
 },
 "nbformat": 4,
 "nbformat_minor": 2
}
